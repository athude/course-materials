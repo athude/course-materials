{
 "cells": [
  {
   "cell_type": "markdown",
   "metadata": {},
   "source": [
    "<div class=\"alert alert-warning\">\n",
    "\n",
    "**Note:** If any `import` statements fail on a specific `package`, please use `pip install package` on the command line to install the missing package.\n",
    "\n",
    "</div>"
   ]
  },
  {
   "cell_type": "code",
   "execution_count": 9,
   "metadata": {},
   "outputs": [],
   "source": [
    "%matplotlib inline\n",
    "import numpy as np"
   ]
  },
  {
   "cell_type": "markdown",
   "metadata": {},
   "source": [
    "# Topological properties of genome-scale metabolic model"
   ]
  },
  {
   "cell_type": "markdown",
   "metadata": {},
   "source": [
    "In this exercise you will analyze the topology of a Genome-Scale Model (GSM) of the yeast Saccharomyces cerevisiae using the methods described in Chapter 7 of \"Systems Biology: Properties of Reconstructed Networks, Bernhard Ø. Palsson, 2006, Cambridge University Press\". The GSM has the identifier iMM904 (MM -> Monica Mo, the main model developer and 1st author on its publication; 904 -> ORFs accounted for in the model) and was obtained from the Systems Biology Research Group (Mo, M.L., Palsson, B.O., Herrgard, M.J., Connecting extracellular metabolomic profiles to intracellular metabolic states in yeast. BMC Systems Biology. 3:37 (2009))."
   ]
  },
  {
   "cell_type": "markdown",
   "metadata": {},
   "source": [
    "## Loading a GSM using cobrapy"
   ]
  },
  {
   "cell_type": "markdown",
   "metadata": {},
   "source": [
    "[Cobrapy](https://opencobra.github.io/cobrapy/) is a Python library that facilitates working with GSMs (import/export, simulations, etc.). While we'll make extensive use of it in future exercises, today we just needs it to load iMM904 from an [SBML](http://sbml.org/Main_Page) file and then to construct its stoichiometric matrix. Let's import iMM904 using the `read_sbml_function` and then take a look at some of its global properties."
   ]
  },
  {
   "cell_type": "code",
   "execution_count": 10,
   "metadata": {},
   "outputs": [],
   "source": [
    "# pip install cobra\n",
    "from cobra.io import read_sbml_model"
   ]
  },
  {
   "cell_type": "code",
   "execution_count": 11,
   "metadata": {},
   "outputs": [],
   "source": [
    "model = read_sbml_model('data/iMM904.xml')"
   ]
  },
  {
   "cell_type": "code",
   "execution_count": 12,
   "metadata": {},
   "outputs": [
    {
     "data": {
      "text/plain": [
       "313"
      ]
     },
     "execution_count": 12,
     "metadata": {},
     "output_type": "execute_result"
    }
   ],
   "source": [
    "model.metabolites.index(model.metabolites.atp_c)"
   ]
  },
  {
   "cell_type": "markdown",
   "metadata": {},
   "source": [
    "If you evaluate the model inside a Jupyter notebook, you will be presented with a high-level overview of its contents."
   ]
  },
  {
   "cell_type": "code",
   "execution_count": 53,
   "metadata": {},
   "outputs": [
    {
     "data": {
      "text/html": [
       "\n",
       "        <table>\n",
       "            <tr>\n",
       "                <td><strong>Name</strong></td>\n",
       "                <td>iMM904</td>\n",
       "            </tr><tr>\n",
       "                <td><strong>Memory address</strong></td>\n",
       "                <td>0x02ca58c5d160</td>\n",
       "            </tr><tr>\n",
       "                <td><strong>Number of metabolites</strong></td>\n",
       "                <td>1226</td>\n",
       "            </tr><tr>\n",
       "                <td><strong>Number of reactions</strong></td>\n",
       "                <td>1577</td>\n",
       "            </tr><tr>\n",
       "                <td><strong>Number of groups</strong></td>\n",
       "                <td>58</td>\n",
       "            </tr><tr>\n",
       "                <td><strong>Objective expression</strong></td>\n",
       "                <td>1.0*BIOMASS_SC5_notrace - 1.0*BIOMASS_SC5_notrace_reverse_93090</td>\n",
       "            </tr><tr>\n",
       "                <td><strong>Compartments</strong></td>\n",
       "                <td>cytosol, mitochondria, extracellular space, peroxisome/glyoxysome, endoplasmic reticulum, vacuole, nucleus, golgi apparatus</td>\n",
       "            </tr>\n",
       "          </table>"
      ],
      "text/plain": [
       "<Model iMM904 at 0x2ca58c5d160>"
      ]
     },
     "execution_count": 53,
     "metadata": {},
     "output_type": "execute_result"
    }
   ],
   "source": [
    "model"
   ]
  },
  {
   "cell_type": "markdown",
   "metadata": {},
   "source": [
    "For today's exercise it will also be important to access the metabolites and reactions contained in the model."
   ]
  },
  {
   "cell_type": "code",
   "execution_count": 14,
   "metadata": {},
   "outputs": [
    {
     "data": {
      "text/plain": [
       "[<Metabolite 10fthf_c at 0x2ca61cc1700>,\n",
       " <Metabolite 10fthf_m at 0x2ca61cc1ac0>,\n",
       " <Metabolite 12dgr_SC_c at 0x2ca61cc1be0>,\n",
       " <Metabolite 13BDglcn_c at 0x2ca61cc1730>,\n",
       " <Metabolite 13BDglcn_e at 0x2ca61cc11f0>,\n",
       " <Metabolite 13dampp_c at 0x2ca61cc1130>,\n",
       " <Metabolite 13dpg_c at 0x2ca61cc1760>,\n",
       " <Metabolite 14glun_c at 0x2ca61cc10a0>,\n",
       " <Metabolite 16BDglcn_c at 0x2ca61cc1850>,\n",
       " <Metabolite 1Dgali_c at 0x2ca61cc1550>]"
      ]
     },
     "execution_count": 14,
     "metadata": {},
     "output_type": "execute_result"
    }
   ],
   "source": [
    "model.metabolites[0:10]"
   ]
  },
  {
   "cell_type": "code",
   "execution_count": 15,
   "metadata": {},
   "outputs": [
    {
     "data": {
      "text/plain": [
       "[<Reaction 13BGH at 0x2ca61dd0100>,\n",
       " <Reaction 13BGHe at 0x2ca61dd0d00>,\n",
       " <Reaction 13GS at 0x2ca61de2430>,\n",
       " <Reaction 16GS at 0x2ca61de2970>,\n",
       " <Reaction 23CAPPD at 0x2ca61de8910>,\n",
       " <Reaction 2DDA7Ptm at 0x2ca61de8d00>,\n",
       " <Reaction 2DHPtm at 0x2ca61decca0>,\n",
       " <Reaction 2DOXG6PP at 0x2ca61dec4c0>,\n",
       " <Reaction 2HBO at 0x2ca61de8610>,\n",
       " <Reaction 2HBt2 at 0x2ca61dec370>]"
      ]
     },
     "execution_count": 15,
     "metadata": {},
     "output_type": "execute_result"
    }
   ],
   "source": [
    "model.reactions[0:10]"
   ]
  },
  {
   "cell_type": "code",
   "execution_count": 16,
   "metadata": {},
   "outputs": [],
   "source": [
    "tmp  = model.metabolites[0]"
   ]
  },
  {
   "cell_type": "code",
   "execution_count": 17,
   "metadata": {},
   "outputs": [
    {
     "data": {
      "text/html": [
       "\n",
       "        <table>\n",
       "            <tr>\n",
       "                <td><strong>Metabolite identifier</strong></td><td>10fthf_c</td>\n",
       "            </tr><tr>\n",
       "                <td><strong>Name</strong></td><td>10-Formyltetrahydrofolate</td>\n",
       "            </tr><tr>\n",
       "                <td><strong>Memory address</strong></td>\n",
       "                <td>0x2ca61cc1700</td>\n",
       "            </tr><tr>\n",
       "                <td><strong>Formula</strong></td><td>C20H21N7O7</td>\n",
       "            </tr><tr>\n",
       "                <td><strong>Compartment</strong></td><td>c</td>\n",
       "            </tr><tr>\n",
       "                <td><strong>In 6 reaction(s)</strong></td><td>\n",
       "                    GARFT, FTHFI, AICART, MTHFC, FTHFLi, TYRNFT\n",
       "                    </td>\n",
       "            </tr>\n",
       "        </table>"
      ],
      "text/plain": [
       "<Metabolite 10fthf_c at 0x2ca61cc1700>"
      ]
     },
     "execution_count": 17,
     "metadata": {},
     "output_type": "execute_result"
    }
   ],
   "source": [
    "tmp"
   ]
  },
  {
   "cell_type": "markdown",
   "metadata": {},
   "source": [
    "As you can see `model.reactions` and `model.metabolites` behave just like lists so you can slice them. Furthermore, you can specific metabolite or reactions using their identifier (`atp_c` represents ATP in c(ytosol) compartment)."
   ]
  },
  {
   "cell_type": "code",
   "execution_count": 51,
   "metadata": {},
   "outputs": [
    {
     "data": {
      "text/html": [
       "\n",
       "        <table>\n",
       "            <tr>\n",
       "                <td><strong>Metabolite identifier</strong></td><td>atp_c</td>\n",
       "            </tr><tr>\n",
       "                <td><strong>Name</strong></td><td>ATP</td>\n",
       "            </tr><tr>\n",
       "                <td><strong>Memory address</strong></td>\n",
       "                <td>0x2ca61cb5790</td>\n",
       "            </tr><tr>\n",
       "                <td><strong>Formula</strong></td><td>C10H12N5O13P3</td>\n",
       "            </tr><tr>\n",
       "                <td><strong>Compartment</strong></td><td>c</td>\n",
       "            </tr><tr>\n",
       "                <td><strong>In 149 reaction(s)</strong></td><td>\n",
       "                    GSNK, SERTRS, ASNTRS, PMI12346PS, PYDXNK, RNMK, SLCBK1, METAT, THRTRS, GLYK, GLUTRS, PYK, XYLK, MEVK1, PNTK, PTPATi, PFK, HSK, GLYTRS, HEX1, HETZK, NADK, FACOAL141, ETHAK, FACOAL180, DRBK,...\n",
       "                    </td>\n",
       "            </tr>\n",
       "        </table>"
      ],
      "text/plain": [
       "<Metabolite atp_c at 0x2ca61cb5790>"
      ]
     },
     "execution_count": 51,
     "metadata": {},
     "output_type": "execute_result"
    }
   ],
   "source": [
    "model.metabolites.get_by_id('atp_c')"
   ]
  },
  {
   "cell_type": "markdown",
   "metadata": {},
   "source": [
    "## Construction and high-level analysis of stoichiometric matrix S"
   ]
  },
  {
   "cell_type": "markdown",
   "metadata": {},
   "source": [
    "Now let's used the `create_stoichiometric_matrix` function to construct the stoichiometric matrix S in the form of a `numpy.array`."
   ]
  },
  {
   "cell_type": "code",
   "execution_count": 19,
   "metadata": {},
   "outputs": [],
   "source": [
    "from cobra.util import create_stoichiometric_matrix"
   ]
  },
  {
   "cell_type": "code",
   "execution_count": 20,
   "metadata": {},
   "outputs": [
    {
     "data": {
      "text/plain": [
       "\u001b[1;31mSignature:\u001b[0m\n",
       " \u001b[0mcreate_stoichiometric_matrix\u001b[0m\u001b[1;33m(\u001b[0m\u001b[1;33m\n",
       "\u001b[0m    \u001b[0mmodel\u001b[0m\u001b[1;33m:\u001b[0m \u001b[1;34m'Model'\u001b[0m\u001b[1;33m,\u001b[0m\u001b[1;33m\n",
       "\u001b[0m    \u001b[0marray_type\u001b[0m\u001b[1;33m:\u001b[0m \u001b[0mstr\u001b[0m \u001b[1;33m=\u001b[0m \u001b[1;34m'dense'\u001b[0m\u001b[1;33m,\u001b[0m\u001b[1;33m\n",
       "\u001b[0m    \u001b[0mdtype\u001b[0m\u001b[1;33m:\u001b[0m \u001b[0mOptional\u001b[0m\u001b[1;33m[\u001b[0m\u001b[0mnumpy\u001b[0m\u001b[1;33m.\u001b[0m\u001b[0mdtype\u001b[0m\u001b[1;33m]\u001b[0m \u001b[1;33m=\u001b[0m \u001b[1;32mNone\u001b[0m\u001b[1;33m,\u001b[0m\u001b[1;33m\n",
       "\u001b[0m\u001b[1;33m)\u001b[0m \u001b[1;33m->\u001b[0m \u001b[0mUnion\u001b[0m\u001b[1;33m[\u001b[0m\u001b[0mnumpy\u001b[0m\u001b[1;33m.\u001b[0m\u001b[0mndarray\u001b[0m\u001b[1;33m,\u001b[0m \u001b[0mscipy\u001b[0m\u001b[1;33m.\u001b[0m\u001b[0msparse\u001b[0m\u001b[1;33m.\u001b[0m\u001b[0mdok\u001b[0m\u001b[1;33m.\u001b[0m\u001b[0mdok_matrix\u001b[0m\u001b[1;33m,\u001b[0m \u001b[0mscipy\u001b[0m\u001b[1;33m.\u001b[0m\u001b[0msparse\u001b[0m\u001b[1;33m.\u001b[0m\u001b[0mlil\u001b[0m\u001b[1;33m.\u001b[0m\u001b[0mlil_matrix\u001b[0m\u001b[1;33m,\u001b[0m \u001b[0mpandas\u001b[0m\u001b[1;33m.\u001b[0m\u001b[0mcore\u001b[0m\u001b[1;33m.\u001b[0m\u001b[0mframe\u001b[0m\u001b[1;33m.\u001b[0m\u001b[0mDataFrame\u001b[0m\u001b[1;33m]\u001b[0m\u001b[1;33m\u001b[0m\u001b[1;33m\u001b[0m\u001b[0m\n",
       "\u001b[1;31mDocstring:\u001b[0m\n",
       "Return a stoichiometric array representation of the given model.\n",
       "\n",
       "The the columns represent the reactions and rows represent\n",
       "metabolites. S[i,j] therefore contains the quantity of metabolite `i`\n",
       "produced (negative for consumed) by reaction `j`.\n",
       "\n",
       "Parameters\n",
       "----------\n",
       "model : cobra.Model\n",
       "    The cobra model to construct the matrix for.\n",
       "array_type : {\"dense\", \"dok\", \"lil\", \"DataFrame\"}\n",
       "    The type of array to construct. \"dense\" will return a standard\n",
       "    numpy.ndarray. \"dok\", or \"lil\" will construct a sparse array using\n",
       "    scipy of the corresponding type. \"DataFrame\" will give a\n",
       "    pandas.DataFrame with metabolite as indices and reaction as\n",
       "    columns.\n",
       "dtype : numpy.dtype, optional\n",
       "    The desired numpy data type for the array (default numpy.float64).\n",
       "\n",
       "Returns\n",
       "-------\n",
       "matrix of class `dtype`\n",
       "    The stoichiometric matrix for the given model.\n",
       "\n",
       "Raises\n",
       "------\n",
       "ValueError\n",
       "    If sparse matrix is used and scipy is not installed.\n",
       "\n",
       ".. deprecated:: 0.18.1\n",
       "          \"DataFrame\" option for `array_type` will be replaced with\n",
       "          \"frame\" in future versions.\n",
       "\u001b[1;31mFile:\u001b[0m      c:\\users\\xxber\\anaconda3\\lib\\site-packages\\cobra\\util\\array.py\n",
       "\u001b[1;31mType:\u001b[0m      function\n"
      ]
     },
     "metadata": {},
     "output_type": "display_data"
    }
   ],
   "source": [
    "? create_stoichiometric_matrix"
   ]
  },
  {
   "cell_type": "code",
   "execution_count": 21,
   "metadata": {},
   "outputs": [],
   "source": [
    "S = create_stoichiometric_matrix(model)"
   ]
  },
  {
   "cell_type": "markdown",
   "metadata": {},
   "source": [
    "If we check the `type` of $S$, we can see that it comes in the form of a `numpy.array`."
   ]
  },
  {
   "cell_type": "code",
   "execution_count": 22,
   "metadata": {},
   "outputs": [
    {
     "data": {
      "text/plain": [
       "numpy.ndarray"
      ]
     },
     "execution_count": 22,
     "metadata": {},
     "output_type": "execute_result"
    }
   ],
   "source": [
    "type(S)"
   ]
  },
  {
   "cell_type": "code",
   "execution_count": 23,
   "metadata": {},
   "outputs": [
    {
     "data": {
      "text/plain": [
       "array([[ 0.  ,  0.  ,  0.  , ...,  0.  ,  0.  ,  0.  ],\n",
       "       [ 0.  ,  0.  ,  0.  , ...,  0.  ,  0.  ,  0.  ],\n",
       "       [ 0.  ,  0.  ,  0.  , ...,  0.  ,  0.  ,  0.  ],\n",
       "       ...,\n",
       "       [ 0.  ,  0.  ,  0.  , ...,  0.01, -1.  ,  0.  ],\n",
       "       [ 0.  ,  0.  ,  0.  , ...,  0.  ,  0.  ,  0.  ],\n",
       "       [ 0.  ,  0.  ,  0.  , ..., -0.01,  0.  ,  0.  ]])"
      ]
     },
     "execution_count": 23,
     "metadata": {},
     "output_type": "execute_result"
    }
   ],
   "source": [
    "S"
   ]
  },
  {
   "cell_type": "markdown",
   "metadata": {},
   "source": [
    "Checking its dimensions using `.shape`, we can see that it contains 1226 rows correspdonding to 1226 metabolites and 1577 columns (corresponding to 1577 reactions)."
   ]
  },
  {
   "cell_type": "code",
   "execution_count": 24,
   "metadata": {},
   "outputs": [
    {
     "data": {
      "text/plain": [
       "(1226, 1577)"
      ]
     },
     "execution_count": 24,
     "metadata": {},
     "output_type": "execute_result"
    }
   ],
   "source": [
    "S.shape"
   ]
  },
  {
   "cell_type": "markdown",
   "metadata": {},
   "source": [
    "***\n",
    "**A.**\n",
    "\n",
    "Stoichiometric matrices are [sparse](https://en.wikipedia.org/wiki/Sparse_matrix) (i.e. most of its elements are zero). How sparse is $S$ of iMM904? Determine the percentage of non-zero elements in S.\n",
    "\n",
    "Hint: There are many ways how of how one could count non-zero elements in a `numpy.array`. Try to find a concise and efficient approach.\n",
    "***"
   ]
  },
  {
   "cell_type": "code",
   "execution_count": 119,
   "metadata": {},
   "outputs": [
    {
     "name": "stdout",
     "output_type": "stream",
     "text": [
      "0.33707423494958627 %\n"
     ]
    }
   ],
   "source": [
    "non_zero = (S != 0).sum()\n",
    "total = S.shape[0]*S.shape[1]\n",
    "\n",
    "sparse = non_zero / total * 100\n",
    "print(str(sparse) + \" %\")"
   ]
  },
  {
   "cell_type": "markdown",
   "metadata": {},
   "source": [
    "***\n",
    "**B.**\n",
    "\n",
    "How many degrees of freedom does the model have? Can MFA be used to calculate fluxes on a genome-scale? Discuss with you're partner."
   ]
  },
  {
   "cell_type": "code",
   "execution_count": 42,
   "metadata": {},
   "outputs": [
    {
     "data": {
      "text/plain": [
       "431"
      ]
     },
     "execution_count": 42,
     "metadata": {},
     "output_type": "execute_result"
    }
   ],
   "source": [
    "dof = S.shape[1] - np.linalg.matrix_rank(S) # number of reactions - rank of matrix\n",
    "dof # amount of reactions we must measure to get a unique solution"
   ]
  },
  {
   "cell_type": "markdown",
   "metadata": {},
   "source": [
    "***"
   ]
  },
  {
   "cell_type": "markdown",
   "metadata": {},
   "source": [
    "Now let's visualize $S$ using [matplotlib.pyplot.spy](https://matplotlib.org/3.3.1/api/_as_gen/matplotlib.pyplot.spy.html), a function that can be used to create an image of a sparse matrix (it will emphasize non-zero elemements so one can see patterns etc.; you can vary the highlighting by changing `markersize`)."
   ]
  },
  {
   "cell_type": "code",
   "execution_count": 44,
   "metadata": {},
   "outputs": [
    {
     "data": {
      "image/png": "[encoded data removed]",
      "text/plain": [
       "<Figure size 720x720 with 1 Axes>"
      ]
     },
     "metadata": {
      "needs_background": "light"
     },
     "output_type": "display_data"
    }
   ],
   "source": [
    "import matplotlib.pyplot as plt\n",
    "\n",
    "plt.figure(figsize=(10,10))\n",
    "plt.spy(S, precision=0.01, markersize=0.2)\n",
    "plt.xlabel('Reactions')\n",
    "plt.ylabel('Metabolites')\n",
    "plt.show()"
   ]
  },
  {
   "cell_type": "markdown",
   "metadata": {},
   "source": [
    "***\n",
    "**C.**\n",
    "\n",
    "One can see patterns in the visualization. Discuss with your partner:\n",
    "\n",
    "1. What are the horizontal lines? Which metabolites do you think they might be? Try to come up with suggestions for the heaviest lines, less heavy and the most dotted lines.\n",
    "2. What is the diagonal line?\n",
    "***"
   ]
  },
  {
   "cell_type": "markdown",
   "metadata": {},
   "source": [
    "1. Heavy lines could be H+, H2O, ATP, NADH, etc., less heavy could be precursor metabolites (pyruvate etc.), most dotted \"lines\"  specific metabolites and products\n",
    "\n",
    "2. The diagonal line shows linear biosynthetic pathways. Visible due to the ordering of the reactions."
   ]
  },
  {
   "cell_type": "code",
   "execution_count": 66,
   "metadata": {},
   "outputs": [
    {
     "data": {
      "text/html": [
       "\n",
       "        <table>\n",
       "            <tr>\n",
       "                <td><strong>Metabolite identifier</strong></td><td>h_c</td>\n",
       "            </tr><tr>\n",
       "                <td><strong>Name</strong></td><td>H+</td>\n",
       "            </tr><tr>\n",
       "                <td><strong>Memory address</strong></td>\n",
       "                <td>0x2ca61cc9550</td>\n",
       "            </tr><tr>\n",
       "                <td><strong>Formula</strong></td><td>H</td>\n",
       "            </tr><tr>\n",
       "                <td><strong>Compartment</strong></td><td>c</td>\n",
       "            </tr><tr>\n",
       "                <td><strong>In 539 reaction(s)</strong></td><td>\n",
       "                    GSNK, NAt3_1, RNMK, SLCBK1, SUCRt2, SERt2m, GLYK, MIPCS324_SC, NMNTP, GLNt2r, TRE6PS, 2HBO, NMNt2p, GTHOr, NDP7, GSNt2, ARABR, AOBUTDs, DIPS, GLYt2m, DOLK, AMETt2, 23CAPPD, SHSL4r, NFTYROX, THRt2m,...\n",
       "                    </td>\n",
       "            </tr>\n",
       "        </table>"
      ],
      "text/plain": [
       "<Metabolite h_c at 0x2ca61cc9550>"
      ]
     },
     "execution_count": 66,
     "metadata": {},
     "output_type": "execute_result"
    }
   ],
   "source": [
    "megatabolite = np.bincount(np.ndarray.nonzero(S)[0]).argmax() # most occuring metabolite\n",
    "model.metabolites[megatabolite]"
   ]
  },
  {
   "cell_type": "markdown",
   "metadata": {},
   "source": [
    "## Analyze the network topology of the GSM as described in Chapter 7 of \"Systems Biology: properties of reconstructed networks\""
   ]
  },
  {
   "cell_type": "markdown",
   "metadata": {},
   "source": [
    "### Construct the binary $\\mathbf{\\hat{S}}$"
   ]
  },
  {
   "cell_type": "markdown",
   "metadata": {},
   "source": [
    "Before we can compute the reaction $\\mathbf{A_v}$ and compound $\\mathbf{A_x}$ adjacency matrices, we need to create a binary version $\\mathbf{\\hat{S}}$ of $\\mathbf{S}$.\n",
    "\\begin{array}\n",
    "\\\\\n",
    "\\hat{S}_{ij} = 0 & \\text{if} & S_{ij} = 0 \\\\\n",
    "\\hat{S}_{ij} = 1 & \\text{if} & S_{ij} \\neq 0\n",
    "\\end{array}"
   ]
  },
  {
   "cell_type": "markdown",
   "metadata": {},
   "source": [
    "***\n",
    "**D.**\n",
    "\n",
    "Read the documentation of [`numpy.where`](https://numpy.org/doc/stable/reference/generated/numpy.where.html) to determine how to use it to create $\\mathbf{\\hat{S}}$. Specifically the examples at the end should be helpful."
   ]
  },
  {
   "cell_type": "code",
   "execution_count": 71,
   "metadata": {},
   "outputs": [
    {
     "data": {
      "text/plain": [
       "array([[0, 0, 0, ..., 0, 0, 0],\n",
       "       [0, 0, 0, ..., 0, 0, 0],\n",
       "       [0, 0, 0, ..., 0, 0, 0],\n",
       "       ...,\n",
       "       [0, 0, 0, ..., 1, 1, 0],\n",
       "       [0, 0, 0, ..., 0, 0, 0],\n",
       "       [0, 0, 0, ..., 1, 0, 0]])"
      ]
     },
     "execution_count": 71,
     "metadata": {},
     "output_type": "execute_result"
    }
   ],
   "source": [
    "S_binary = np.where(S != 0, 1, 0)\n",
    "S_binary"
   ]
  },
  {
   "cell_type": "markdown",
   "metadata": {},
   "source": [
    "***"
   ]
  },
  {
   "cell_type": "markdown",
   "metadata": {},
   "source": [
    "### Compute reaction and compound adjacency matrices"
   ]
  },
  {
   "cell_type": "markdown",
   "metadata": {},
   "source": [
    "***\n",
    "**E.**\n",
    "\n",
    "Based on the book chapter and the lecture, \n",
    "\n",
    "1. Compute the reaction and compound adjacency matrices $\\mathbf{A_v}$ and $\\mathbf{A_x}$ (name them `A_v` and `A_x`).\n",
    "2. Based on $\\mathbf{A_v}$, what is reaction that involves the largest number or metabolites?\n",
    "3. Based on $\\mathbf{A_x}$, what is metabolite that participates in largest number of reactions.\n",
    "\n",
    "\n",
    "Hints:\n",
    "* You can transpose an array using `.T`.\n",
    "* You can use `.max()` to find the maximum value inside an array.\n",
    "* You can use `.argmax()` to find the position of the maximum value in an array."
   ]
  },
  {
   "cell_type": "code",
   "execution_count": 81,
   "metadata": {},
   "outputs": [],
   "source": [
    "S_binary_t = np.transpose(S_binary)\n",
    "A_v = np.dot(S_binary_t, S_binary)\n",
    "A_x = np.dot(S_binary, S_binary_t)"
   ]
  },
  {
   "cell_type": "code",
   "execution_count": 117,
   "metadata": {},
   "outputs": [
    {
     "data": {
      "text/html": [
       "\n",
       "        <table>\n",
       "            <tr>\n",
       "                <td><strong>Reaction identifier</strong></td><td>BIOMASS_SC5_notrace</td>\n",
       "            </tr><tr>\n",
       "                <td><strong>Name</strong></td><td>Biomass SC5 notrace</td>\n",
       "            </tr><tr>\n",
       "                <td><strong>Memory address</strong></td>\n",
       "                <td>0x2ca6281bf70</td>\n",
       "            </tr><tr>\n",
       "                <td><strong>Stoichiometry</strong></td>\n",
       "                <td>\n",
       "                    <p style='text-align:right'>1.1348 13BDglcn_c + 0.4588 ala__L_c + 0.046 amp_c + 0.1607 arg__L_c + 0.1017 asn__L_c + 0.2975 asp__L_c + 59.276 atp_c + 0.0447 cmp_c + 0.0066 cys__L_c + 0.0036 damp_c + 0.0024 dcmp_c + 0.0024...</p>\n",
       "                    <p style='text-align:right'>1.1348 1 3 beta D Glucan C6H10O5 + 0.4588 L-Alanine + 0.046 AMP + 0.1607 L-Arginine + 0.1017 L-Asparagine + 0.2975 L-Aspartate + 59.276 ATP + 0.0447 CMP + 0.0066 L-Cysteine + 0.0036 DAMP + 0.0024...</p>\n",
       "                </td>\n",
       "            </tr><tr>\n",
       "                <td><strong>GPR</strong></td><td></td>\n",
       "            </tr><tr>\n",
       "                <td><strong>Lower bound</strong></td><td>0.0</td>\n",
       "            </tr><tr>\n",
       "                <td><strong>Upper bound</strong></td><td>999999.0</td>\n",
       "            </tr>\n",
       "        </table>\n",
       "        "
      ],
      "text/plain": [
       "<Reaction BIOMASS_SC5_notrace at 0x2ca6281bf70>"
      ]
     },
     "execution_count": 117,
     "metadata": {},
     "output_type": "execute_result"
    }
   ],
   "source": [
    "A_v.diagonal().max()\n",
    "A_v.diagonal().argmax()\n",
    "model.reactions[A_v.diagonal().argmax()]"
   ]
  },
  {
   "cell_type": "code",
   "execution_count": 114,
   "metadata": {},
   "outputs": [
    {
     "data": {
      "text/html": [
       "\n",
       "        <table>\n",
       "            <tr>\n",
       "                <td><strong>Metabolite identifier</strong></td><td>h_c</td>\n",
       "            </tr><tr>\n",
       "                <td><strong>Name</strong></td><td>H+</td>\n",
       "            </tr><tr>\n",
       "                <td><strong>Memory address</strong></td>\n",
       "                <td>0x2ca61cc9550</td>\n",
       "            </tr><tr>\n",
       "                <td><strong>Formula</strong></td><td>H</td>\n",
       "            </tr><tr>\n",
       "                <td><strong>Compartment</strong></td><td>c</td>\n",
       "            </tr><tr>\n",
       "                <td><strong>In 539 reaction(s)</strong></td><td>\n",
       "                    GSNK, NAt3_1, RNMK, SLCBK1, SUCRt2, SERt2m, GLYK, MIPCS324_SC, NMNTP, GLNt2r, TRE6PS, 2HBO, NMNt2p, GTHOr, NDP7, GSNt2, ARABR, AOBUTDs, DIPS, GLYt2m, DOLK, AMETt2, 23CAPPD, SHSL4r, NFTYROX, THRt2m,...\n",
       "                    </td>\n",
       "            </tr>\n",
       "        </table>"
      ],
      "text/plain": [
       "<Metabolite h_c at 0x2ca61cc9550>"
      ]
     },
     "execution_count": 114,
     "metadata": {},
     "output_type": "execute_result"
    }
   ],
   "source": [
    "model.metabolites[A_x.diagonal().argmax()]"
   ]
  },
  {
   "cell_type": "markdown",
   "metadata": {},
   "source": [
    "***\n",
    "**F.**\n",
    "\n",
    "Reproduce Fig. 7.3\n",
    "\n",
    "Hint: You can use Python's `sorted` function to sort an array. Check out its documentation to see how to achieve either a descending or ascending order."
   ]
  },
  {
   "cell_type": "markdown",
   "metadata": {},
   "source": [
    "***"
   ]
  },
  {
   "cell_type": "markdown",
   "metadata": {},
   "source": [
    "Let's use Python's `zip` and `sorted` to extract the top 10 most connected metabolites."
   ]
  },
  {
   "cell_type": "code",
   "execution_count": 115,
   "metadata": {},
   "outputs": [
    {
     "data": {
      "text/plain": [
       "[(<Metabolite h_c at 0x2ca61cc9550>, 539),\n",
       " (<Metabolite h2o_c at 0x2ca61cc9370>, 274),\n",
       " (<Metabolite atp_c at 0x2ca61cb5790>, 149),\n",
       " (<Metabolite h_m at 0x2ca61cc95e0>, 120),\n",
       " (<Metabolite pi_c at 0x2ca61c97cd0>, 109),\n",
       " (<Metabolite adp_c at 0x2ca61cb8640>, 107),\n",
       " (<Metabolite h_e at 0x2ca61cc9580>, 89),\n",
       " (<Metabolite nadp_c at 0x2ca61cd8df0>, 84),\n",
       " (<Metabolite nadph_c at 0x2ca61cd8ee0>, 81),\n",
       " (<Metabolite ppi_c at 0x2ca61c97a00>, 73)]"
      ]
     },
     "execution_count": 115,
     "metadata": {},
     "output_type": "execute_result"
    }
   ],
   "source": [
    "connectivity = sorted(zip(model.metabolites, A_x.diagonal()), key=lambda item: item[1], reverse=True)\n",
    "connectivity[0:10]"
   ]
  },
  {
   "cell_type": "markdown",
   "metadata": {},
   "source": [
    "## Using networkx to analyze the network"
   ]
  },
  {
   "cell_type": "markdown",
   "metadata": {},
   "source": [
    "[NetworkX](https://networkx.github.io/) is a Python package for the creation, manipulation, and study of the structure, dynamics, and functions of complex networks. In this part of the exercise we are going to use it visualize reactiond and metabolite centric networks. We are also going to analyze the degree distribution of the nodes in those networks."
   ]
  },
  {
   "cell_type": "code",
   "execution_count": null,
   "metadata": {},
   "outputs": [],
   "source": [
    "# pip install networkx\n",
    "import networkx as nx"
   ]
  },
  {
   "cell_type": "markdown",
   "metadata": {},
   "source": [
    "### Generate networks from the adjacency matrices"
   ]
  },
  {
   "cell_type": "markdown",
   "metadata": {},
   "source": [
    "We can use `networkx.from_numpy_matrix` to create a network directly from an adjacency matrix. Let's create a metabolite centric network. In that process a network will be generated in which metabolites are connected to other metabolites if they participate in the same reaction. The off-diagonal elements of $\\mathbf{A_x}$ provide this information which networkx then uses to construct the network."
   ]
  },
  {
   "cell_type": "code",
   "execution_count": null,
   "metadata": {},
   "outputs": [],
   "source": [
    "compound_centric_network = nx.from_numpy_matrix(A_x)"
   ]
  },
  {
   "cell_type": "markdown",
   "metadata": {},
   "source": [
    "Let's name those nodes in the network after the metabolites in the model."
   ]
  },
  {
   "cell_type": "code",
   "execution_count": null,
   "metadata": {},
   "outputs": [],
   "source": [
    "mapping = dict(zip(range(0, len(model.metabolites)), model.metabolites))\n",
    "compound_centric_network = nx.relabel_nodes(compound_centric_network, mapping)"
   ]
  },
  {
   "cell_type": "markdown",
   "metadata": {},
   "source": [
    "### Compute node degrees for reaction and compound centric networks"
   ]
  },
  {
   "cell_type": "markdown",
   "metadata": {},
   "source": [
    "We can use networkx's `.degree()` function to extract the number of connections (\"the degree\") each node in the network has."
   ]
  },
  {
   "cell_type": "code",
   "execution_count": null,
   "metadata": {},
   "outputs": [],
   "source": [
    "metabolite_degrees = compound_centric_network.degree()"
   ]
  },
  {
   "cell_type": "code",
   "execution_count": null,
   "metadata": {},
   "outputs": [],
   "source": [
    "sorted_metabolite_degrees = sorted(metabolite_degrees, key=lambda item: item[1], reverse=True)\n",
    "sorted_metabolite_degrees[0:10]"
   ]
  },
  {
   "cell_type": "markdown",
   "metadata": {},
   "source": [
    "***\n",
    "**G. (optional)** \n",
    "\n",
    "If you compare the degrees from the metabolite centric network with the diagonal entries of $\\mathbf{A}_x$ (connectivey analysis above), they seem to be similar but not the same. What is the difference between the connectivity analysis conducted above (based on Chapter 7 of \"Systems Biolog: properties of reconstructed networks\") and node degrees computed here?\n",
    "***"
   ]
  },
  {
   "cell_type": "markdown",
   "metadata": {},
   "source": [
    "### Visualize the network"
   ]
  },
  {
   "cell_type": "code",
   "execution_count": null,
   "metadata": {},
   "outputs": [],
   "source": [
    "plt.figure(figsize=(10, 10))\n",
    "nx.draw_networkx(compound_centric_network, node_size=15, alpha=.2, with_labels=False)"
   ]
  },
  {
   "cell_type": "markdown",
   "metadata": {},
   "source": [
    "Look at that hairball!"
   ]
  },
  {
   "cell_type": "markdown",
   "metadata": {},
   "source": [
    "***\n",
    "**F. (optional)**\n",
    "\n",
    "1. In the hairball one can see groups of nodes/metabolites clustering together. What do those groups correspond to? Discuss with your partner.\n",
    "2. Do you see ways of making the visualization less hairbally? Discuss with your partner.\n",
    "\n",
    "Hint:\n",
    "* You can use `network.remove(node)` to delete a specific node from the network. \n",
    "* You can use max(nx.connected_component_subgraphs(network), key=len) to find the largest connected component of network.\n",
    "\n",
    "Answer: the clusters correspond to the different cellular compartments represented in the model.\n",
    "***"
   ]
  },
  {
   "cell_type": "code",
   "execution_count": null,
   "metadata": {},
   "outputs": [],
   "source": []
  }
 ],
 "metadata": {
  "kernelspec": {
   "display_name": "Python 3 (ipykernel)",
   "language": "python",
   "name": "python3"
  },
  "language_info": {
   "codemirror_mode": {
    "name": "ipython",
    "version": 3
   },
   "file_extension": ".py",
   "mimetype": "text/x-python",
   "name": "python",
   "nbconvert_exporter": "python",
   "pygments_lexer": "ipython3",
   "version": "3.9.12"
  },
  "vscode": {
   "interpreter": {
    "hash": "916dbcbb3f70747c44a77c7bcd40155683ae19c65e1c03b4aa3499c5328201f1"
   }
  }
 },
 "nbformat": 4,
 "nbformat_minor": 4
}
